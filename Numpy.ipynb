{
  "nbformat": 4,
  "nbformat_minor": 0,
  "metadata": {
    "colab": {
      "provenance": []
    },
    "kernelspec": {
      "name": "python3",
      "display_name": "Python 3"
    },
    "language_info": {
      "name": "python"
    }
  },
  "cells": [
    {
      "cell_type": "markdown",
      "source": [
        "**Theoretical Questions:**"
      ],
      "metadata": {
        "id": "W3T0B2QZUYwZ"
      }
    },
    {
      "cell_type": "code",
      "source": [
        "#Q1. Explain the purpose and advantages of NumPy in scientific computing and data analysis. How does it enhance Python's capabilities for numerical operations?\n",
        "\n",
        "\"\"\"Purpose of NumPy in Scientific Computing and Data Analysis\n",
        "NumPy (Numerical Python) is a powerful library designed to efficiently handle numerical data and perform mathematical operations in Python.\n",
        "It is particularly well-suited for scientific computing, data analysis, and engineering applications.\n",
        "NumPy provides support for arrays, matrices, and a wide range of numerical operations that make it an essential tool for handling large datasets, complex mathematical computations, and multidimensional data structures.\n",
        "\n",
        "The key purpose of NumPy in scientific computing and data analysis is to provide:\n",
        "\n",
        "Efficient Numerical Data Storage: NumPy allows the storage of large datasets in a highly efficient format, reducing memory consumption and improving access speed.\n",
        "\n",
        "Vectorized Operations: NumPy enables element-wise operations on entire arrays or matrices, avoiding the need for slow Python loops and making code cleaner and faster.\n",
        "\n",
        "Advanced Mathematical Functions: The library offers a wide array of mathematical, statistical, and algebraic functions optimized for arrays.\n",
        "\n",
        "Multidimensional Arrays: NumPy supports arrays of any number of dimensions, enabling complex data structures like matrices, tensors, and grids, which are fundamental for many scientific applications.\n",
        "\n",
        "\n",
        "Advantages of NumPy in Scientific Computing and Data Analysis\n",
        "Performance and Efficiency:\n",
        "\n",
        "Speed: NumPy is implemented in C, and operations on NumPy arrays are performed in compiled code instead of interpreted Python.\n",
        "This makes NumPy much faster than native Python lists for numerical computations, especially for large datasets.\n",
        "Memory Efficiency: NumPy arrays consume less memory because they store data in contiguous memory blocks and have a fixed data type.\n",
        "This contrasts with Python lists, which are more flexible but also more memory-intensive.\n",
        "Vectorized Operations:\n",
        "\n",
        "NumPy supports vectorized operations, meaning you can perform mathematical operations directly on arrays without having to loop over individual elements.\n",
        "This leads to cleaner, more concise, and significantly faster code.\"\"\"\n",
        "\n",
        "#example:\n",
        "\n",
        "import numpy as np\n",
        "a = np.array([1, 2, 3])\n",
        "b = np.array([4, 5, 6])\n",
        "c = a + b\n",
        "\n",
        "\"\"\"Multidimensional Arrays:\n",
        "\n",
        "NumPy allows the creation of multidimensional arrays (like matrices or higher-dimensional tensors), which is crucial in scientific and engineering problems.\n",
        "This capability is foundational for many machine learning models, simulations, and data manipulations.\"\"\"\n",
        "\n",
        "matrix = np.array([[1, 2, 3], [4, 5, 6], [7, 8, 9]])\n",
        "\n",
        "\"\"\"Convenient Mathematical Operations:\n",
        "\n",
        "NumPy provides a wide range of mathematical functions (e.g., linear algebra, statistics, Fourier transforms, etc.) that operate directly on arrays, such as:\n",
        "Element-wise operations: addition, multiplication, exponentiation\n",
        "Linear algebra operations: dot products, matrix multiplication, eigenvalues\n",
        "Statistical functions: mean, standard deviation, correlation\n",
        "Random number generation: generating random numbers for simulations, random sampling, etc.\"\"\"\n",
        "\n",
        "arr = np.array([1, 2, 3, 4, 5])\n",
        "mean_value = np.mean(arr)  # Calculate mean\n",
        "std_dev = np.std(arr)      # Calculate standard deviation\n",
        "\n",
        "\"\"\"Broadcasting:\n",
        "\n",
        "Broadcasting allows NumPy to perform operations on arrays of different shapes.\n",
        "This feature automatically adjusts arrays of smaller sizes to match larger ones, eliminating the need for explicit looping or reshaping.\n",
        "Broadcasting is a powerful feature for efficient handling of arithmetic between arrays with different shapes.\"\"\"\n",
        "a = np.array([1, 2, 3])\n",
        "b = np.array([10])\n",
        "c = a + b  # Broadcasting allows the addition of a scalar to an array\n",
        "\n",
        "\"\"\"How NumPy Enhances Python's Capabilities for Numerical Operations\n",
        "Array Data Structure:\n",
        "\n",
        "Native Python provides lists, but lists are slow and inefficient for numerical tasks.\n",
        "NumPy enhances Python by introducing N-dimensional arrays (ndarray), which can store large datasets efficiently and support complex operations.\n",
        "\n",
        "Optimized for Numerical Computations:\n",
        "\n",
        "NumPy arrays are optimized for numerical operations, offering significant performance improvements over Python’s built-in list operations.\n",
        "The functions in NumPy are implemented in C and are highly optimized for operations on arrays.\n",
        "\n",
        "No Need for Explicit Loops:\n",
        "\n",
        "With NumPy, you can perform complex operations on entire arrays or matrices without explicitly writing loops.\n",
        "This improves both the readability and performance of the code.\n",
        "Scientific Computing Libraries:\n",
        "\n",
        "NumPy is the foundation of many popular scientific computing libraries like SciPy, Pandas, and SymPy.\n",
        "By providing an efficient array object and mathematical functions, NumPy supports these libraries in carrying out tasks like optimization, integration, data manipulation, and statistical analysis.\"\"\"\n",
        "\n"
      ],
      "metadata": {
        "id": "uV5mwkwaUb7q"
      },
      "execution_count": null,
      "outputs": []
    },
    {
      "cell_type": "code",
      "source": [
        "#Q2. Compare and contrast np.mean() and np.average() functions in NumPy. When would you use one over the other?\n",
        "\"\"\" - Both np.mean() and np.average() are functions in NumPy that are used to calculate the average (or central tendency) of a dataset, but they have some key differences in terms of flexibility and functionality.\n",
        "Here’s a detailed comparison and when to use each function.\n",
        " - np.mean():\n",
        "This function calculates the arithmetic mean of an array along a specified axis.\n",
        "It’s the sum of all elements divided by the number of elements. It does not provide any additional options for weighting the data.\n",
        " - np.average():\n",
        "This function also calculates the mean but provides more flexibility, as it allows you to compute the weighted average.\n",
        "In addition to calculating the arithmetic mean, you can provide a set of weights for the data, making it useful when different values should contribute differently to the result.\n",
        "\n",
        "Use Cases and Scenarios\n",
        "Use np.mean() when:\n",
        "\n",
        "You need to calculate the simple arithmetic mean of the dataset.\n",
        "You do not need to apply any weighting to the values.\n",
        "You are working with data where each value is equally important or represents the same magnitude.\n",
        "Example: Calculating the average score of students where each student has the same weight:\"\"\"\n",
        "\n",
        "scores = np.array([90, 80, 85, 92, 88])\n",
        "mean_score = np.mean(scores)\n",
        "\n",
        "\"\"\"Use np.average() when:\n",
        "\n",
        "You need to compute a weighted average.\n",
        "Different data points have different levels of importance or should contribute differently to the result.\n",
        "Example: Calculating the weighted average score of students where different students' scores count more based on their number of hours studied:\"\"\"\n",
        "\n",
        "scores = np.array([90, 80, 85, 92, 88])\n",
        "hours_studied = np.array([10, 5, 8, 7, 6])  # Weights\n",
        "weighted_avg_score = np.average(scores, weights=hours_studied)\n",
        "weighted_avg_score\n",
        "\n"
      ],
      "metadata": {
        "colab": {
          "base_uri": "https://localhost:8080/"
        },
        "id": "vxB3_7yoX5F-",
        "outputId": "9355e8ef-0742-4dad-e27b-8a7d1c7e33f5"
      },
      "execution_count": null,
      "outputs": [
        {
          "output_type": "execute_result",
          "data": {
            "text/plain": [
              "87.55555555555556"
            ]
          },
          "metadata": {},
          "execution_count": 6
        }
      ]
    },
    {
      "cell_type": "code",
      "source": [
        "#Q3. Describe the methods for reversing a NumPy array along different axes. Provide examples for 1D and 2D arrays.\n",
        "# - Reversing a 1D Array\n",
        "import numpy as np\n",
        "\n",
        "# Creating a 1D array\n",
        "arr_1d = np.array([1, 2, 3, 4, 5])\n",
        "\n",
        "# Reversing the 1D array\n",
        "reversed_arr = arr_1d[::-1]\n",
        "\n",
        "#Reversing a 2D Array\n",
        "\"\"\"For a 2D array, you can reverse the array along different axes: along rows (axis 0) or along columns (axis 1).\n",
        "\n",
        "Method 1: Reversing along axis 0 (rows)\n",
        "Reversing along axis 0 means reversing the order of the rows in the 2D array. This can be done using slicing or the flipud() function, which stands for \"flip up-down.\"\"\"\n",
        "\n",
        "# Creating a 2D array\n",
        "arr_2d = np.array([[1, 2, 3], [4, 5, 6], [7, 8, 9]])\n",
        "\n",
        "# Reversing along axis 0 (rows)\n",
        "reversed_rows = arr_2d[::-1, :]\n",
        "\n",
        "#OR\n",
        "reversed_rows = np.flipud(arr_2d)\n",
        "\n",
        "\n",
        "print(\"Original array:\\n\", arr_2d)\n",
        "print(\"Reversed along rows (axis 0):\\n\", reversed_rows)\n",
        "\n",
        "\"\"\"Reversing along axis 1 (columns)\n",
        "Reversing along axis 1 means reversing the order of the columns. This can be done using slicing or the fliplr() function, which stands for \"flip left-right.\"\"\"\n",
        "\n",
        "\n",
        "# Reversing along axis 1 (columns)\n",
        "reversed_columns = arr_2d[:, ::-1]\n",
        "\n",
        "print(\"Original array:\\n\", arr_2d)\n",
        "print(\"Reversed along columns (axis 1):\\n\", reversed_columns)\n",
        "\n",
        "#OR\n",
        "reversed_columns = np.fliplr(arr_2d)\n",
        "\n"
      ],
      "metadata": {
        "colab": {
          "base_uri": "https://localhost:8080/"
        },
        "id": "Ihg9O5tabi2l",
        "outputId": "9bbd1e94-3364-42e9-d099-35b935c2055e"
      },
      "execution_count": null,
      "outputs": [
        {
          "output_type": "stream",
          "name": "stdout",
          "text": [
            "Original array:\n",
            " [[1 2 3]\n",
            " [4 5 6]\n",
            " [7 8 9]]\n",
            "Reversed along rows (axis 0):\n",
            " [[7 8 9]\n",
            " [4 5 6]\n",
            " [1 2 3]]\n",
            "Original array:\n",
            " [[1 2 3]\n",
            " [4 5 6]\n",
            " [7 8 9]]\n",
            "Reversed along columns (axis 1):\n",
            " [[3 2 1]\n",
            " [6 5 4]\n",
            " [9 8 7]]\n"
          ]
        }
      ]
    },
    {
      "cell_type": "code",
      "source": [
        "#Q4. How can you determine the data type of elements in a NumPy array? Discuss the importance of data types in memory management and performance.\n",
        "#- can determine the data type of the elements in an array using the dtype attribute.\n",
        "import numpy as np\n",
        "\n",
        "# Creating a NumPy array\n",
        "arr = np.array([1, 2, 3, 4, 5])\n",
        "\n",
        "# Checking the data type of the array elements\n",
        "print(arr.dtype)\n",
        "\n",
        "\"\"\"\n",
        " importance of data types in memory management and performance\n",
        "\n",
        "Memory Efficiency: Choosing an appropriate dtype ensures that memory is used efficiently, reducing unnecessary overhead and improving performance.\n",
        "\n",
        "Performance: Smaller data types typically offer better performance for large datasets since they reduce memory access time and processing power needed for computations.\n",
        "\n",
        "Avoiding Errors: Using an appropriate dtype helps prevent data overflows, underflows, or loss of precision.\n",
        "\n",
        "Optimized Operations: NumPy’s functions are optimized for specific data types, so choosing the right dtype can lead to faster execution times in computational tasks.\n",
        "\n",
        "Interoperability: The correct data type ensures that your data is compatible with other libraries and systems that expect specific formats.\"\"\""
      ],
      "metadata": {
        "colab": {
          "base_uri": "https://localhost:8080/"
        },
        "id": "qjZ19JrgfK_H",
        "outputId": "7f8cef85-d306-4ee0-c615-eca0d977ce43"
      },
      "execution_count": null,
      "outputs": [
        {
          "output_type": "stream",
          "name": "stdout",
          "text": [
            "int64\n"
          ]
        }
      ]
    },
    {
      "cell_type": "code",
      "source": [
        "#Q5 - Define ndarrays in NumPy and explain their key features. How do they differ from standard Python lists?\n",
        "\"\"\"An ndarray (short for n-dimensional array) is the central data structure in NumPy, a powerful Python library for numerical computing. It represents a multidimensional, homogeneous array, i.e., it can hold elements of the same data type and can have any number of dimensions (from 1D to nD).\n",
        "\n",
        "An ndarray is more efficient than Python's standard list data structure because it is optimized for numerical operations. It is used to store and manipulate data in a variety of forms, including vectors, matrices, and higher-dimensional data structures.\n",
        "\n",
        " - Key Features of ndarrays:\n",
        "\n",
        " - Homogeneous Data Type:\n",
        "\n",
        "All elements in an ndarray must be of the same data type, which allows for efficient storage and computation.\n",
        "This contrasts with Python lists, which can store items of different types (e.g., integers, strings, etc.).\n",
        "\n",
        " - Multidimensional:\n",
        "\n",
        "Ndarrays can represent data with one or more dimensions, making them suitable for various types of data (vectors, matrices, higher-dimensional arrays).\n",
        "A 1D array is a vector, a 2D array is a matrix, and a 3D array could represent a set of matrices or multi-dimensional grids.\n",
        "\n",
        " - Fixed Size:\n",
        "\n",
        "Once created, the size of an ndarray is fixed. This means you can't resize an ndarray after its creation like you can with Python lists (i.e., appending or removing elements in a list).\n",
        "However, you can create a new ndarray with the desired size or use slicing to modify portions of an ndarray.\n",
        "\n",
        " - Efficient Memory Layout:\n",
        "\n",
        "NumPy ndarrays are stored in contiguous blocks of memory, which ensures faster access and manipulation of elements compared to Python lists, which are stored as pointers to individual elements.\n",
        "This allows for vectorized operations (operations on entire arrays without the need for explicit loops), which significantly enhances performance.\n",
        "\n",
        " - Broadcasting:\n",
        "\n",
        "Ndarrays support broadcasting, a powerful feature that allows NumPy to perform element-wise operations on arrays of different shapes, as long as they are compatible according to certain rules. This eliminates the need for explicit looping and increases efficiency.\n",
        "\n",
        "\n",
        " - Differences Between ndarrays and Standard Python Lists\n",
        "\n",
        " - Homogeneity:\n",
        "\n",
        "ndarrays: Elements must be of the same data type.\n",
        "Python Lists: Can store elements of different data types (e.g., integers, strings, etc.).\n",
        "\n",
        " - Performance:\n",
        "\n",
        "ndarrays: Operations on ndarrays are faster due to their contiguous memory layout and optimized C-based implementation.\n",
        "Python Lists: Slower due to the overhead of storing references to objects in memory and the lack of efficient memory management.\n",
        "\n",
        " - Memory Efficiency:\n",
        "\n",
        "ndarrays: Store data in a compact, fixed-size format.\n",
        "Python Lists: Store data as references to objects, leading to higher memory overhead.\n",
        "\n",
        " - Functionality:\n",
        "\n",
        "ndarrays: NumPy provides a wide range of mathematical, statistical, and logical operations that are fast and efficient.\n",
        "Python Lists: Do not have built-in support for advanced mathematical operations or multi-dimensional data.\n",
        "\n",
        " - Mutability:\n",
        "\n",
        "ndarrays: While the size of an ndarray is fixed upon creation, the data within it can be modified (mutability is allowed).\n",
        "Python Lists: Lists are mutable and can have their size changed by appending, removing, or altering elements.\n",
        "\n",
        " - Shape and Dimensions:\n",
        "\n",
        "ndarrays: Support multi-dimensional data (1D, 2D, 3D, etc.).\n",
        "Python Lists: Can only hold one-dimensional data (although you can nest lists within lists to simulate higher dimensions, but this isn't as efficient or straightforward as ndarrays)."
      ],
      "metadata": {
        "id": "QlxQ3NyifhFF"
      },
      "execution_count": null,
      "outputs": []
    },
    {
      "cell_type": "code",
      "source": [
        "#Q6. Analyze the performance benefits of NumPy arrays over Python lists for large-scale numerical operations.\n",
        "\"\"\"In large-scale numerical operations, NumPy arrays offer substantial performance benefits over Python lists.\n",
        "\n",
        "These benefits stem from their:\n",
        "\n",
        " - Memory efficiency, due to contiguous blocks of memory and fixed data types.\n",
        " - Speed, through optimized vectorized operations and low-level C-based implementations.\n",
        " - Parallelization and optimized algorithms for handling large datasets.\n",
        "\n",
        "In contrast, Python lists are more general-purpose and less optimized for numerical computing, making them slower and more memory-inefficient for large-scale numerical tasks.\n",
        "Therefore, for tasks involving significant amounts of data or requiring high computational performance (e.g., linear algebra, statistical analysis, machine learning), NumPy arrays are the clear choice.\"\"\"\n",
        "\n",
        "#Example: numpy in python\n",
        "import numpy as np\n",
        "\n",
        "# Create two large arrays\n",
        "a = np.random.rand(1000000)\n",
        "b = np.random.rand(1000000)\n",
        "\n",
        "# Vectorized addition of arrays\n",
        "result = a + b\n",
        "\n",
        "\n",
        "#Example: Python list\n",
        "# Create two large lists\n",
        "a = [random.random() for _ in range(1000000)]\n",
        "b = [random.random() for _ in range(1000000)]\n",
        "\n",
        "# Manual addition using a loop\n",
        "result = [a[i] + b[i] for i in range(len(a))]"
      ],
      "metadata": {
        "id": "CciGjUTwAlJC"
      },
      "execution_count": null,
      "outputs": []
    },
    {
      "cell_type": "code",
      "source": [
        "#Q7. Compare vstack() and hstack() functions in NumPy. Provide examples demonstrating their usage and output.\n",
        "\"\"\"In NumPy, vstack() and hstack() are functions used to stack arrays along different axes, specifically for combining arrays vertically or horizontally.\n",
        "Here's a comparison of the two functions, along with examples demonstrating their usage.\n",
        "\n",
        "vstack() Function\n",
        "Purpose: The vstack() function stacks arrays vertically (along rows). It combines arrays along the first axis (axis 0), meaning it appends the arrays one below the other.\n",
        "Input Requirement: The arrays being stacked must have the same number of columns (i.e., the same shape along axis 1).\n",
        "hstack() Function\n",
        "Purpose: The hstack() function stacks arrays horizontally (along columns). It combines arrays along the second axis (axis 1), meaning it appends the arrays side by side.\n",
        "Input Requirement: The arrays being stacked must have the same number of rows (i.e., the same shape along axis 0).\"\"\"\n",
        "\n",
        "#Example 1: Using vstack()\n",
        "\n",
        "import numpy as np\n",
        "\n",
        "# Create two 2D arrays\n",
        "arr1 = np.array([[1, 2], [3, 4]])\n",
        "arr2 = np.array([[5, 6], [7, 8]])\n",
        "\n",
        "# Stack arrays vertically\n",
        "result_vstack = np.vstack((arr1, arr2))\n",
        "\n",
        "print(\"Result of vstack:\")\n",
        "print(result_vstack)\n",
        "\n",
        "#Example 2: Using hstack()\n",
        "\n",
        "# Stack arrays horizontally\n",
        "result_hstack = np.hstack((arr1, arr2))\n",
        "\n",
        "print(\"Result of hstack:\")\n",
        "print(result_hstack)"
      ],
      "metadata": {
        "colab": {
          "base_uri": "https://localhost:8080/"
        },
        "id": "I4SWbo-1BCHw",
        "outputId": "182d4f8d-f0cc-43ca-e159-612b55a96ccf"
      },
      "execution_count": null,
      "outputs": [
        {
          "output_type": "stream",
          "name": "stdout",
          "text": [
            "Result of vstack:\n",
            "[[1 2]\n",
            " [3 4]\n",
            " [5 6]\n",
            " [7 8]]\n",
            "Result of hstack:\n",
            "[[1 2 5 6]\n",
            " [3 4 7 8]]\n"
          ]
        }
      ]
    },
    {
      "cell_type": "code",
      "source": [
        "#Q8 - Explain the differences between fliplr() and flipud() methods in NumPy, including their effects on various array dimensions.\n",
        "\n",
        "\"\"\"fliplr():\n",
        "Flips horizontally along the columns (axis 1).\n",
        "Reverses the order of elements in each row.\n",
        "\n",
        "flipud():\n",
        "Flips vertically along the rows (axis 0).\n",
        "Reverses the order of the rows.\n",
        "These methods are particularly useful when performing transformations, image processing, or manipulating multidimensional data arrays.\"\"\"\n",
        "\n",
        "#Example 1: 1D Array\n",
        "\n",
        "arr_1d = np.array([1, 2, 3, 4])\n",
        "\n",
        "# Flip left to right\n",
        "flipped_lr_1d = np.fliplr([arr_1d])\n",
        "\n",
        "# Flip up to down\n",
        "flipped_ud_1d = np.flipud([arr_1d])\n",
        "\n",
        "print(\"Original 1D array:\")\n",
        "print(arr_1d)\n",
        "\n",
        "print(\"Flipped left to right (fliplr):\")\n",
        "print(flipped_lr_1d)\n",
        "\n",
        "print(\"Flipped up to down (flipud):\")\n",
        "print(flipped_ud_1d)\n",
        "\n",
        "#Example 2: 3D Array (Higher-Dimensional Example)\n",
        "\n",
        "arr_3d = np.array([[[1, 2], [3, 4]], [[5, 6], [7, 8]]])\n",
        "\n",
        "# Flip left to right\n",
        "flipped_lr_3d = np.fliplr(arr_3d)\n",
        "\n",
        "# Flip up to down\n",
        "flipped_ud_3d = np.flipud(arr_3d)\n",
        "\n",
        "print(\"Original 3D array:\")\n",
        "print(arr_3d)\n",
        "\n",
        "print(\"Flipped left to right (fliplr):\")\n",
        "print(flipped_lr_3d)\n",
        "\n",
        "print(\"Flipped up to down (flipud):\")\n",
        "print(flipped_ud_3d)"
      ],
      "metadata": {
        "colab": {
          "base_uri": "https://localhost:8080/"
        },
        "id": "fvMjkDBY46PX",
        "outputId": "edcd482d-eaba-4edf-ef17-3c3e0f0dd9cc"
      },
      "execution_count": null,
      "outputs": [
        {
          "output_type": "stream",
          "name": "stdout",
          "text": [
            "Original 1D array:\n",
            "[1 2 3 4]\n",
            "Flipped left to right (fliplr):\n",
            "[[4 3 2 1]]\n",
            "Flipped up to down (flipud):\n",
            "[[1 2 3 4]]\n",
            "Original 3D array:\n",
            "[[[1 2]\n",
            "  [3 4]]\n",
            "\n",
            " [[5 6]\n",
            "  [7 8]]]\n",
            "Flipped left to right (fliplr):\n",
            "[[[3 4]\n",
            "  [1 2]]\n",
            "\n",
            " [[7 8]\n",
            "  [5 6]]]\n",
            "Flipped up to down (flipud):\n",
            "[[[5 6]\n",
            "  [7 8]]\n",
            "\n",
            " [[1 2]\n",
            "  [3 4]]]\n"
          ]
        }
      ]
    },
    {
      "cell_type": "code",
      "source": [
        "#Q9 - Discuss the functionality of the array_split() method in NumPy. How does it handle uneven splits?\n",
        "\"\"\" - The array_split() method in NumPy is a powerful tool that allows you to split an array into multiple sub-arrays.\n",
        "Unlike the basic split() method, which requires the array to be evenly divisible by the number of desired splits,\n",
        "array_split() can handle cases where the array size is not perfectly divisible by the number of splits. This makes it more flexible and useful for handling uneven splits.\n",
        "\n",
        "Syntax of array_split()\"\"\"\n",
        "\n",
        "\"\"\"Example 1: Splitting an Array into Uneven Parts\n",
        "Let's consider an array with 10 elements that we want to split into 3 parts.\"\"\"\n",
        "\n",
        "\n",
        "import numpy as np\n",
        "\n",
        "# Create an array of 10 elements\n",
        "arr = np.array([1, 2, 3, 4, 5, 6, 7, 8, 9, 10])\n",
        "\n",
        "# Split into 3 parts\n",
        "split_arr = np.array_split(arr, 3)\n",
        "\n",
        "print(\"Array split into 3 parts:\")\n",
        "for part in split_arr:\n",
        "    print(part)\n",
        "\n",
        "\n",
        "\"\"\"Example 2: Splitting Along Rows (2D Array)\n",
        "Let's split a 2D array along the rows (axis 0) where the number of rows is not evenly divisible by the number of splits.\"\"\"\n",
        "\n",
        "# Create a 2D array with 6 rows and 4 columns\n",
        "arr_2d = np.array([[1, 2, 3, 4],\n",
        "                   [5, 6, 7, 8],\n",
        "                   [9, 10, 11, 12],\n",
        "                   [13, 14, 15, 16],\n",
        "                   [17, 18, 19, 20],\n",
        "                   [21, 22, 23, 24]])\n",
        "\n",
        "# Split into 4 parts along rows (axis 0)\n",
        "split_arr_2d = np.array_split(arr_2d, 4, axis=0)\n",
        "\n",
        "print(\"Array split along rows (axis 0):\")\n",
        "for part in split_arr_2d:\n",
        "    print(part)"
      ],
      "metadata": {
        "colab": {
          "base_uri": "https://localhost:8080/"
        },
        "id": "vCor8VDt6LdB",
        "outputId": "c9d000da-ea2d-4470-8238-905d539acc1b"
      },
      "execution_count": null,
      "outputs": [
        {
          "output_type": "stream",
          "name": "stdout",
          "text": [
            "Array split into 3 parts:\n",
            "[1 2 3 4]\n",
            "[5 6 7]\n",
            "[ 8  9 10]\n"
          ]
        }
      ]
    },
    {
      "cell_type": "code",
      "source": [
        "#Q10 -  Explain the concepts of vectorization and broadcasting in NumPy. How do they contribute to efficient array operations?\n",
        "\"\"\"Vectorization: The ability to apply operations across entire arrays without explicit loops, making array operations faster and more efficient.\n",
        "NumPy internally uses optimized C code to handle these operations, which speeds up execution significantly.\n",
        "\n",
        "Broadcasting: A mechanism that allows NumPy to perform operations between arrays of different shapes by automatically expanding the smaller array to match the larger array’s shape.\n",
        " This saves memory and reduces the need for redundant data replication.\n",
        "Together, vectorization and broadcasting enable efficient, readable, and memory-efficient array operations in NumPy.\n",
        "They help avoid the need for slow Python loops, make use of low-level optimizations, and allow operations on arrays of different shapes without explicitly reshaping or duplicating arrays.\"\"\"\n",
        "\n",
        "\"\"\"How Vectorization and Broadcasting Contribute to Efficient Array Operations\n",
        "\n",
        "Avoiding Loops:\n",
        "\n",
        "Vectorization allows you to perform operations on entire arrays without the need for explicit loops in Python.\n",
        "This not only makes the code cleaner but also speeds up execution since NumPy leverages optimized C code under the hood.\n",
        "\n",
        "Reduced Memory Usage:\n",
        "\n",
        "Broadcasting allows NumPy to perform operations on arrays of different shapes without duplicating data.\n",
        "This reduces the memory overhead, especially when dealing with large arrays.\n",
        "Instead of creating intermediate large arrays to match shapes, broadcasting allows operations to be performed in-place without unnecessary data duplication.\n",
        "\n",
        "Parallelism and Optimization:\n",
        "\n",
        "NumPy internally optimizes operations for speed by taking advantage of low-level libraries like BLAS (Basic Linear Algebra Subprograms), which can perform operations in parallel on multiple CPU cores.\n",
        "Both vectorization and broadcasting make use of this parallelism, resulting in significant performance improvements over plain Python loops.\n",
        "\n",
        "Simplified Code:\n",
        "\n",
        "Both vectorization and broadcasting lead to cleaner, more concise code.\n",
        "Instead of manually iterating through arrays and performing operations element by element, you can express operations as single expressions that apply across entire arrays, improving readability.\"\"\"\n",
        "\n",
        "\n",
        "#Example of Vectorization:\n",
        "#Without vectorization (using a loop):\n",
        "\n",
        "\n",
        "import numpy as np\n",
        "\n",
        "arr = np.array([1, 2, 3, 4])\n",
        "\n",
        "# Adding 2 to each element (using loop)\n",
        "result = []\n",
        "for x in arr:\n",
        "    result.append(x + 2)\n",
        "\n",
        "print(result)\n",
        "\n",
        "#With vectorization (NumPy's built-in operation):\n",
        "\n",
        "\n",
        "arr = np.array([1, 2, 3, 4])\n",
        "\n",
        "# Adding 2 to each element (vectorized operation)\n",
        "result = arr + 2\n",
        "\n",
        "print(result)\n",
        "\n",
        "\n",
        "#Example of Broadcasting:\n",
        "#Consider adding a 2D array and a 1D array:\n",
        "\n",
        "\n",
        "import numpy as np\n",
        "\n",
        "# 2D array (3x4)\n",
        "arr_2d = np.array([[1, 2, 3, 4],\n",
        "                   [5, 6, 7, 8],\n",
        "                   [9, 10, 11, 12]])\n",
        "\n",
        "# 1D array (1x4)\n",
        "arr_1d = np.array([1, 2, 3, 4])\n",
        "\n",
        "# Adding the 1D array to the 2D array (broadcasting)\n",
        "result = arr_2d + arr_1d\n",
        "\n",
        "print(result)\n",
        "\n",
        "\n"
      ],
      "metadata": {
        "colab": {
          "base_uri": "https://localhost:8080/"
        },
        "id": "3ekKl5UvYtXY",
        "outputId": "6f86dfce-e89a-4360-d000-286441f00750"
      },
      "execution_count": null,
      "outputs": [
        {
          "output_type": "stream",
          "name": "stdout",
          "text": [
            "[3, 4, 5, 6]\n",
            "[3 4 5 6]\n",
            "[[ 2  4  6  8]\n",
            " [ 6  8 10 12]\n",
            " [10 12 14 16]]\n"
          ]
        }
      ]
    },
    {
      "cell_type": "markdown",
      "source": [
        "**Practical Questions**"
      ],
      "metadata": {
        "id": "K4hflgXVayzf"
      }
    },
    {
      "cell_type": "code",
      "source": [
        "#Q1. Create a 3x3 NumPy array with random integers between 1 and 100. Then, interchange its rows and columns.\n",
        "import numpy as np\n",
        "arr1 = np.random.randint(1,101,(3,3))\n",
        "print(arr1)\n",
        "\n",
        "a = arr1.T\n",
        "a"
      ],
      "metadata": {
        "id": "d5Xf41fjayVb",
        "colab": {
          "base_uri": "https://localhost:8080/"
        },
        "outputId": "b0c2b872-61b1-4f95-cc9c-f445013c44fa"
      },
      "execution_count": null,
      "outputs": [
        {
          "output_type": "stream",
          "name": "stdout",
          "text": [
            "[[ 91  10  78]\n",
            " [100  79 100]\n",
            " [ 10  25  42]]\n"
          ]
        },
        {
          "output_type": "execute_result",
          "data": {
            "text/plain": [
              "array([[ 91, 100,  10],\n",
              "       [ 10,  79,  25],\n",
              "       [ 78, 100,  42]])"
            ]
          },
          "metadata": {},
          "execution_count": 8
        }
      ]
    },
    {
      "cell_type": "code",
      "source": [
        "#Q2. Generate a 1D NumPy array with 10 elements. Reshape it into a 2x5 array, then into a 5x2 array.\n",
        "l = [1,2,3,4,5,6,7,8,9,10]\n",
        "ar = np.array(l)\n",
        "ar.ndim\n",
        "ar1 = ar.reshape(2,5)\n",
        "ar1\n",
        "ar2 = ar.reshape(5,2)\n",
        "ar2"
      ],
      "metadata": {
        "colab": {
          "base_uri": "https://localhost:8080/"
        },
        "id": "ntZz8ahfZbkx",
        "outputId": "7e2d7a75-1f03-4a1e-b32c-e44a43153ca4"
      },
      "execution_count": null,
      "outputs": [
        {
          "output_type": "execute_result",
          "data": {
            "text/plain": [
              "array([[ 1,  2],\n",
              "       [ 3,  4],\n",
              "       [ 5,  6],\n",
              "       [ 7,  8],\n",
              "       [ 9, 10]])"
            ]
          },
          "metadata": {},
          "execution_count": 20
        }
      ]
    },
    {
      "cell_type": "code",
      "source": [
        "#Q3. Create a 4x4 NumPy array with random float values. Add a border of zeros around it, resulting in a 6x6 array.\n",
        "ar = np.random.rand(4,4)\n",
        "ar\n",
        "# Add a border of zeros around the array, resulting in a 6x6 array\n",
        "array_with_border = np.pad(ar, pad_width=1, mode='constant', constant_values=0)\n",
        "\n",
        "# Display the array with the border\n",
        "print(\"Original 4x4 Array:\")\n",
        "print(ar)\n",
        "\n",
        "print(\"\\nArray with Border (6x6):\")\n",
        "print(array_with_border)"
      ],
      "metadata": {
        "colab": {
          "base_uri": "https://localhost:8080/"
        },
        "id": "nEd8YT59aZVn",
        "outputId": "16359a81-a2b6-4391-fbcc-cd68eef17b91"
      },
      "execution_count": null,
      "outputs": [
        {
          "output_type": "stream",
          "name": "stdout",
          "text": [
            "Original 4x4 Array:\n",
            "[[0.64509172 0.04121659 0.63368678 0.62621798]\n",
            " [0.21888022 0.42869635 0.21747581 0.19815909]\n",
            " [0.4694586  0.47237313 0.39336142 0.82441617]\n",
            " [0.51255587 0.43033117 0.24297687 0.66343915]]\n",
            "\n",
            "Array with Border (6x6):\n",
            "[[0.         0.         0.         0.         0.         0.        ]\n",
            " [0.         0.64509172 0.04121659 0.63368678 0.62621798 0.        ]\n",
            " [0.         0.21888022 0.42869635 0.21747581 0.19815909 0.        ]\n",
            " [0.         0.4694586  0.47237313 0.39336142 0.82441617 0.        ]\n",
            " [0.         0.51255587 0.43033117 0.24297687 0.66343915 0.        ]\n",
            " [0.         0.         0.         0.         0.         0.        ]]\n"
          ]
        }
      ]
    },
    {
      "cell_type": "code",
      "source": [
        "#Q4. Using NumPy, create an array of integers from 10 to 60 with a step of 5.\n",
        "import numpy as np\n",
        "a1 = np.random.randint(10,61,5)\n",
        "a1"
      ],
      "metadata": {
        "id": "w2T0QBGAboq4",
        "colab": {
          "base_uri": "https://localhost:8080/"
        },
        "outputId": "64640a32-826b-4f3d-dec5-1c67cdb3d5d1"
      },
      "execution_count": 2,
      "outputs": [
        {
          "output_type": "execute_result",
          "data": {
            "text/plain": [
              "array([37, 18, 49, 25, 51])"
            ]
          },
          "metadata": {},
          "execution_count": 2
        }
      ]
    },
    {
      "cell_type": "code",
      "source": [
        "#Q5. Create a NumPy array of strings ['python', 'numpy', 'pandas']. Apply different case transformations (uppercase, lowercase, title case, etc.) to each element.\n",
        "import numpy as np\n",
        "arr1 = np.array(['python', 'numpy', 'pandas'])\n",
        "print(\"UpperCase = \", np.char.upper(arr1))\n",
        "print(\"LowerCase = \", np.char.lower(arr1))\n",
        "print(\"Title = \", np.char.title(arr1))\n",
        "print(\"Capital = \", np.char.capitalize(arr1))\n"
      ],
      "metadata": {
        "colab": {
          "base_uri": "https://localhost:8080/"
        },
        "id": "R1F3lyuGiKxY",
        "outputId": "530f61b5-c36a-4f3a-92ff-f89b16f985cb"
      },
      "execution_count": 10,
      "outputs": [
        {
          "output_type": "stream",
          "name": "stdout",
          "text": [
            "UpperCase =  ['PYTHON' 'NUMPY' 'PANDAS']\n",
            "LowerCase =  ['python' 'numpy' 'pandas']\n",
            "Title =  ['Python' 'Numpy' 'Pandas']\n",
            "Capital =  ['Python' 'Numpy' 'Pandas']\n"
          ]
        }
      ]
    },
    {
      "cell_type": "code",
      "source": [
        "#Q6. Generate a NumPy array of words. Insert a space between each character of every word in the array.\n",
        "import numpy as np\n",
        "\n",
        "# Create a NumPy array of words\n",
        "arr = np.array(['python', 'numpy', 'pandas'])\n",
        "\n",
        "# Insert a space between each character of every word\n",
        "spaced_arr = np.array([' '.join(word) for word in arr])\n",
        "\n",
        "# Print the result\n",
        "print(spaced_arr)"
      ],
      "metadata": {
        "colab": {
          "base_uri": "https://localhost:8080/"
        },
        "id": "y473MDx-lKF7",
        "outputId": "03b108f4-4877-4394-ff16-0e0705cf83f1"
      },
      "execution_count": 11,
      "outputs": [
        {
          "output_type": "stream",
          "name": "stdout",
          "text": [
            "['p y t h o n' 'n u m p y' 'p a n d a s']\n"
          ]
        }
      ]
    },
    {
      "cell_type": "code",
      "source": [
        "#Q7. Create two 2D NumPy arrays and perform element-wise addition, subtraction, multiplication, and division.\n",
        "import numpy as np\n",
        "arr1 = np.random.randint(1,10,(5,5))\n",
        "arr2 = np.random.randint(1,10,(5,5))\n",
        "arr1,arr2\n",
        "print(\"Adiition of two 2D arrays \\n\",  arr1+arr2)\n",
        "print(\"Subtraction of two 2D arrays \\n\",  arr1-arr2)\n",
        "print(\"Multiplication of two 2D arrays \\n\",  arr1*arr2)\n",
        "print(\"Division of two 2D arrays \\n\",  arr1/arr2)"
      ],
      "metadata": {
        "colab": {
          "base_uri": "https://localhost:8080/"
        },
        "id": "FsRyGWiTtBhk",
        "outputId": "acad2029-c95f-4ffd-f550-39d92fe4af8e"
      },
      "execution_count": 19,
      "outputs": [
        {
          "output_type": "stream",
          "name": "stdout",
          "text": [
            "Adiition of two 2D arrays \n",
            " [[ 9 14  6 16  5]\n",
            " [ 7 17 11  8 14]\n",
            " [12 12  5 15 17]\n",
            " [ 9  8  3 12 10]\n",
            " [ 8 11 13 12 11]]\n",
            "Subtraction of two 2D arrays \n",
            " [[-1 -4 -2 -2  1]\n",
            " [ 3 -1 -5 -4 -2]\n",
            " [-2  6  1  3 -1]\n",
            " [-3  2  1  6 -8]\n",
            " [ 0 -7  3 -2  5]]\n",
            "Multiplication of two 2D arrays \n",
            " [[20 45  8 63  6]\n",
            " [10 72 24 12 48]\n",
            " [35 27  6 54 72]\n",
            " [18 15  2 27  9]\n",
            " [16 18 40 35 24]]\n",
            "Division of two 2D arrays \n",
            " [[0.8        0.55555556 0.5        0.77777778 1.5       ]\n",
            " [2.5        0.88888889 0.375      0.33333333 0.75      ]\n",
            " [0.71428571 3.         1.5        1.5        0.88888889]\n",
            " [0.5        1.66666667 2.         3.         0.11111111]\n",
            " [1.         0.22222222 1.6        0.71428571 2.66666667]]\n"
          ]
        }
      ]
    },
    {
      "cell_type": "code",
      "source": [
        "#Q8. Use NumPy to create a 5x5 identity matrix, then extract its diagonal elements.\n",
        "arr = np.eye(5)\n",
        "arr\n",
        "arr1 = np.diagonal(arr)\n",
        "print(\"Original array\",arr)\n",
        "print(\"\")\n",
        "print(\"Diagnal elements of Original array\\n\", arr1)\n"
      ],
      "metadata": {
        "colab": {
          "base_uri": "https://localhost:8080/"
        },
        "id": "JDL7fnpVt5iJ",
        "outputId": "91911066-2012-45ab-937a-895498963289"
      },
      "execution_count": 28,
      "outputs": [
        {
          "output_type": "stream",
          "name": "stdout",
          "text": [
            "Original array [[1. 0. 0. 0. 0.]\n",
            " [0. 1. 0. 0. 0.]\n",
            " [0. 0. 1. 0. 0.]\n",
            " [0. 0. 0. 1. 0.]\n",
            " [0. 0. 0. 0. 1.]]\n",
            "\n",
            "Diagnal elements of Original array\n",
            " [1. 1. 1. 1. 1.]\n"
          ]
        }
      ]
    },
    {
      "cell_type": "code",
      "source": [
        "#Q9. Generate a NumPy array of 100 random integers between 0 and 1000. Find and display all prime numbers in this array.\n",
        "import numpy as np\n",
        "\n",
        "# Generate a NumPy array of 100 random integers between 0 and 1000\n",
        "arr = np.random.randint(0, 1001, size=100)\n",
        "\n",
        "# Function to check if a number is prime\n",
        "def is_prime(n):\n",
        "    if n <= 1:\n",
        "        return False\n",
        "    for i in range(2, int(np.sqrt(n)) + 1):\n",
        "        if n % i == 0:\n",
        "            return False\n",
        "    return True\n",
        "\n",
        "# Find all prime numbers in the array\n",
        "primes = [num for num in arr if is_prime(num)]\n",
        "\n",
        "# Print the original array and the prime numbers\n",
        "print(\"Original Array:\", arr)\n",
        "print(\"Prime Numbers:\", primes)"
      ],
      "metadata": {
        "colab": {
          "base_uri": "https://localhost:8080/"
        },
        "id": "iFvRiRguur3x",
        "outputId": "73150d0b-b628-4f82-dd40-a37e6962b6b5"
      },
      "execution_count": 39,
      "outputs": [
        {
          "output_type": "stream",
          "name": "stdout",
          "text": [
            "Original Array: [ 45  19 959 164 526 166 831 542 654 335 691 882 577 409   5  95 759 550\n",
            " 600 715 175 383 337 429 547 759 660  70 492 376 741  39 419 251  76 289\n",
            " 817 615 480 333 466 659 177 402 125 936 677 886 191 905 547  98 454 817\n",
            " 152 696 858 317 105 521 607  77 996 152 884 108 756 426 887 118 903 609\n",
            " 217 270 380 470 727 948  60 234 247 326   4 659 292 774 412 588 665 894\n",
            " 233 205 505 212 400 928  43 596 840 754]\n",
            "Prime Numbers: [19, 691, 577, 409, 5, 383, 337, 547, 419, 251, 659, 677, 191, 547, 317, 521, 607, 887, 727, 659, 233, 43]\n"
          ]
        }
      ]
    },
    {
      "cell_type": "code",
      "source": [
        "#Q10. Create a NumPy array representing daily temperatures for a month. Calculate and display the weekly averages.\n",
        "import numpy as np\n",
        "\n",
        "# Generate a NumPy array of daily temperatures for a month (30 days)\n",
        "daily_temperatures = np.random.uniform(low=10, high=35, size=28)  # temperatures between -10°C and 35°C\n",
        "\n",
        "# Reshape the array into a 2D array with 4 weeks (each week has 7 days)\n",
        "weekly_temperatures = daily_temperatures.reshape(4,7)\n",
        "\n",
        "# Calculate the weekly averages\n",
        "weekly_averages = np.mean(weekly_temperatures, axis=1)\n",
        "\n",
        "# Print the daily temperatures and weekly averages\n",
        "print(\"Daily Temperatures for the Month:\", daily_temperatures)\n",
        "print(\"Weekly Averages:\", weekly_averages)"
      ],
      "metadata": {
        "colab": {
          "base_uri": "https://localhost:8080/"
        },
        "id": "C2WIPV1-z_Gd",
        "outputId": "eca6ddb7-ed29-4452-e696-3c914ac54083"
      },
      "execution_count": 43,
      "outputs": [
        {
          "output_type": "stream",
          "name": "stdout",
          "text": [
            "Daily Temperatures for the Month: [32.02282374 10.62324548 32.68251388 25.05879457 31.51150446 10.46668488\n",
            " 12.99395589 22.81035689 23.71667607 28.52629449 14.54953721 25.4932605\n",
            " 24.30592219 25.82815597 33.77823388 15.09550487 13.87415721 17.95701865\n",
            " 19.38211493 29.23191775 10.4771207  25.20641078 33.90367904 34.94793849\n",
            " 16.64281503 11.31429601 13.63524301 25.60045286]\n",
            "Weekly Averages: [22.19421756 23.60431476 19.97086685 23.0358336 ]\n"
          ]
        }
      ]
    }
  ]
}