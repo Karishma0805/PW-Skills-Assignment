{
  "nbformat": 4,
  "nbformat_minor": 0,
  "metadata": {
    "colab": {
      "provenance": [],
      "toc_visible": true
    },
    "kernelspec": {
      "name": "python3",
      "display_name": "Python 3"
    },
    "language_info": {
      "name": "python"
    }
  },
  "cells": [
    {
      "cell_type": "markdown",
      "source": [
        "Q1 - Explain the key features of Python that make it a popular choice for programming.\n",
        "\n",
        "\n",
        "- Python has many features that makes it popular choice for programming some of the basic features are as follows:\n",
        "1-Free and Open source - As it a free opn source language which means it is available for everyone to use it freely and the source code is also available to the public.\n",
        "\n",
        "2-Easy to code - It is very easy to learn as compared to other languages like C, Java etc. very easy to code and developer friendly.\n",
        "\n",
        "3-Easy to read - As for the coding in python it is very easy to understand and read even by the people who are not from CS/IT background and instead of using semicolons and bracket the code block is defined by identations.\n",
        "\n",
        "4-Portable Language - Python language is also a portable language. For example, if we have Python code for Windows and if we want to run this code on other platforms such as Linux, Unix, and Mac then we do not need to change it, we can run this code on any platform.\"\"\""
      ],
      "metadata": {
        "id": "9LFsK0qj4Ian"
      }
    },
    {
      "cell_type": "markdown",
      "source": [
        "Q2 - Describe the role of predefined keywords in Python and provide examples of how they are used in a program.\n",
        " - Predefinedkeywords words are predefined and reserved words in python with special meanings and can not be used as identifiers.\n",
        "\n",
        " some of the keywords in python are - print, input, if, elif, else, for, while, break, continue etc."
      ],
      "metadata": {
        "id": "lRIWkj4v4SHu"
      }
    },
    {
      "cell_type": "code",
      "source": [
        "#example of print, continue, for, if, else keywords\n",
        "for i in range(1,10):\n",
        "  if i == 4:\n",
        "    continue\n",
        "  else:\n",
        "    print(i)"
      ],
      "metadata": {
        "colab": {
          "base_uri": "https://localhost:8080/"
        },
        "id": "PheKPncI_S5e",
        "outputId": "6c24011e-32ca-40e2-a253-ce63159d329b"
      },
      "execution_count": null,
      "outputs": [
        {
          "output_type": "stream",
          "name": "stdout",
          "text": [
            "1\n",
            "2\n",
            "3\n",
            "5\n",
            "6\n",
            "7\n",
            "8\n",
            "9\n"
          ]
        }
      ]
    },
    {
      "cell_type": "markdown",
      "source": [
        "Q3 - Compare and contrast mutable and immutable objects in Python with examples.\n",
        "\n",
        " - Mutable objects can be modified after they are created.\n",
        " eg- lists, dictionaries, and sets.\n",
        "\n",
        " - Immutable objects are those whose state cannot be modified after they are created and it does not support item assignment.\n",
        " eg - strings, tuples, and integers.\n",
        "\n"
      ],
      "metadata": {
        "id": "ZGMvRMbeByQF"
      }
    },
    {
      "cell_type": "code",
      "source": [
        "# example of mutable list\n",
        "list = [\"Karishma\", \"pwskills\", 100 ]\n",
        "print(list)\n",
        "\n",
        "list[2] = \"Data Analyst\"\n",
        "print(list)"
      ],
      "metadata": {
        "colab": {
          "base_uri": "https://localhost:8080/"
        },
        "id": "q_hwlqbhY35j",
        "outputId": "6d976c02-bfb7-4797-ef20-02f08277f1f1"
      },
      "execution_count": null,
      "outputs": [
        {
          "output_type": "stream",
          "name": "stdout",
          "text": [
            "['Karishma', 'pwskills', 100]\n",
            "['Karishma', 'pwskills', 'Data Analyst']\n"
          ]
        }
      ]
    },
    {
      "cell_type": "code",
      "source": [],
      "metadata": {
        "id": "TI7DTD0AZcRJ"
      },
      "execution_count": null,
      "outputs": []
    },
    {
      "cell_type": "markdown",
      "source": [
        "Q4 - Discuss the different types of operators in Python and provide examples of how they are used.\n",
        "\n",
        " - Special keywords/symbols that are used to perform operations on values aor variables.\n",
        "\n",
        " Types of operators:\n",
        " 1- Arithmetic Operators\n",
        " 2- Comparison (Relational) Operators\n",
        " 3- Assignment Operators\n",
        " 4- Logical Operators\n",
        " 5- Bitwise Operators\n",
        " 6- Membership Operators\n",
        " 7- Identity Operators\n"
      ],
      "metadata": {
        "id": "JTJUUYPLZ2uy"
      }
    },
    {
      "cell_type": "code",
      "source": [
        "#Arithmetic Opertors\n",
        "a = 10\n",
        "b = 8\n",
        "print(a+b) #addition\n",
        "print(a**b) #exponent\n",
        "print(a%b) #module\n",
        "print(a//b) #floor\n",
        "\n",
        "\n",
        "#Comparision Operators\n",
        "a = 4\n",
        "b = 5\n",
        "a==b\n",
        "a!=b\n",
        "\n",
        "\n"
      ],
      "metadata": {
        "colab": {
          "base_uri": "https://localhost:8080/"
        },
        "id": "as1PUgW8bRbj",
        "outputId": "998b05ab-c7a5-4f3d-f287-2ea894aac7d5"
      },
      "execution_count": null,
      "outputs": [
        {
          "output_type": "stream",
          "name": "stdout",
          "text": [
            "18\n",
            "100000000\n",
            "2\n",
            "1\n"
          ]
        },
        {
          "output_type": "execute_result",
          "data": {
            "text/plain": [
              "True"
            ]
          },
          "metadata": {},
          "execution_count": 11
        }
      ]
    },
    {
      "cell_type": "markdown",
      "source": [
        "Q5 - Explain the concept of type casting in Python with examples.\n",
        " - Type casting is a process of changing the data type of a value.\n",
        " There are two types - 1. Implicit 2. Explicit\n",
        "\n",
        " Implicit - In implicit type casting python understands the data type itself we do not have to use any process."
      ],
      "metadata": {
        "id": "8NX9hVl5deiI"
      }
    },
    {
      "cell_type": "code",
      "source": [
        "#explicit type casting\n",
        "a = 5\n",
        "n = float(a)\n",
        "print(n)\n",
        "type(n)"
      ],
      "metadata": {
        "colab": {
          "base_uri": "https://localhost:8080/"
        },
        "id": "v_8jjxjUeta6",
        "outputId": "684daec2-02ff-4c39-fefd-0b9cdfcd85b0"
      },
      "execution_count": null,
      "outputs": [
        {
          "output_type": "stream",
          "name": "stdout",
          "text": [
            "5.0\n"
          ]
        },
        {
          "output_type": "execute_result",
          "data": {
            "text/plain": [
              "float"
            ]
          },
          "metadata": {},
          "execution_count": 19
        }
      ]
    },
    {
      "cell_type": "markdown",
      "source": [
        "Q6 - How does conditional statements work in Python? Illustrate with examples.\n",
        " - Conditional Statements are statements in Python that provide a choice for the control flow based on a condition.\n",
        "\n",
        " Flow control in python refers to the mechanism that govern the order in which statements and instructions are executed.\n",
        " This is crucial for implementing logic in programs.\n"
      ],
      "metadata": {
        "id": "38ZCAcmwfLvp"
      }
    },
    {
      "cell_type": "code",
      "source": [
        "#example of if-else, elif condition statements\n",
        "a = 10\n",
        "if a<10:\n",
        "  print (\"a is  not smaller than 10\")\n",
        "elif a==10:\n",
        "  print(\"a is equals t0 10\")\n",
        "else:\n",
        "  print(\"a is greater than 10\")"
      ],
      "metadata": {
        "colab": {
          "base_uri": "https://localhost:8080/"
        },
        "id": "lHmyKQNjbejh",
        "outputId": "b0f65097-15ad-4617-8f52-5fd87a6e08da"
      },
      "execution_count": 2,
      "outputs": [
        {
          "output_type": "stream",
          "name": "stdout",
          "text": [
            "a is equals t0 10\n"
          ]
        }
      ]
    },
    {
      "cell_type": "markdown",
      "source": [
        "Q7 - Describe the different types of loops in Python and their use cases with examples.\n",
        " - Loops are used to execute a block of code repeatedly.\n",
        " there are two types of loops:\n",
        " 1 - while loop: It is used when we want to execute a code until a condition is met.\n",
        "\n",
        " 2 - for loop: It is used when we know in advance how many times we want to execute the block of code.\n"
      ],
      "metadata": {
        "id": "Ne92arRRcLui"
      }
    },
    {
      "cell_type": "code",
      "source": [
        "#while loop example\n",
        "r=0\n",
        "while r<6:\n",
        "  c=0\n",
        "  while c<=r:\n",
        "    c=c+1\n",
        "    print(\"*\",end=\"\")\n",
        "  print()\n",
        "  r=r+1\n",
        "\n",
        "  #example of for loop\n",
        "print()\n",
        "print()\n",
        "for r in range(6):\n",
        "  for c in range(6):\n",
        "    print(\"*\", end =\"\")\n",
        "  print()\n"
      ],
      "metadata": {
        "colab": {
          "base_uri": "https://localhost:8080/"
        },
        "id": "-d1R_RmSdVXT",
        "outputId": "4d1549d0-77f8-4c10-e9d6-23fd50152ce1"
      },
      "execution_count": 35,
      "outputs": [
        {
          "output_type": "stream",
          "name": "stdout",
          "text": [
            "*\n",
            "**\n",
            "***\n",
            "****\n",
            "*****\n",
            "******\n",
            "\n",
            "\n",
            "******\n",
            "******\n",
            "******\n",
            "******\n",
            "******\n",
            "******\n"
          ]
        }
      ]
    }
  ]
}